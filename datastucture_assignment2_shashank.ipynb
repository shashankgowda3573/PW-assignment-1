{
  "nbformat": 4,
  "nbformat_minor": 0,
  "metadata": {
    "colab": {
      "provenance": [],
      "authorship_tag": "ABX9TyO855LYYJrBiuumLuLPkPYl",
      "include_colab_link": true
    },
    "kernelspec": {
      "name": "python3",
      "display_name": "Python 3"
    },
    "language_info": {
      "name": "python"
    }
  },
  "cells": [
    {
      "cell_type": "markdown",
      "metadata": {
        "id": "view-in-github",
        "colab_type": "text"
      },
      "source": [
        "<a href=\"https://colab.research.google.com/github/shashankgowda3573/PW-assignment-1/blob/main/datastucture_assignment2_shashank.ipynb\" target=\"_parent\"><img src=\"https://colab.research.google.com/assets/colab-badge.svg\" alt=\"Open In Colab\"/></a>"
      ]
    },
    {
      "cell_type": "markdown",
      "source": [
        "Q1. Discuss string slicing and provide examples."
      ],
      "metadata": {
        "id": "hnEN_OOlq2Mu"
      }
    },
    {
      "cell_type": "markdown",
      "source": [
        "Slicing is a way to extract parts of a string by specifying a starting index, an ending index, and an optional step. The syntax is string[start:end:step]. The start index is inclusive, the end index is exclusive, and the step determines how characters are skipped. For example, in \"Python\", text[0:3] returns \"Pyt\", text[::2] skips every other character, and text[::-1] reverses the string. It simplifies working with portions of strings.\n",
        "\n",
        "Syntax:string[start:end:step]"
      ],
      "metadata": {
        "id": "jncvLBnpq8xZ"
      }
    },
    {
      "cell_type": "markdown",
      "source": [
        "Example"
      ],
      "metadata": {
        "id": "-4zmmWNktBhN"
      }
    },
    {
      "cell_type": "code",
      "source": [
        "text = \"Hello, World!\""
      ],
      "metadata": {
        "id": "RyJB_kTGtGlO"
      },
      "execution_count": 1,
      "outputs": []
    },
    {
      "cell_type": "code",
      "source": [
        "#Basic Slicing.\n",
        "text[0:5]"
      ],
      "metadata": {
        "colab": {
          "base_uri": "https://localhost:8080/",
          "height": 36
        },
        "id": "n7gt3illtKSA",
        "outputId": "bbc6516a-1a95-47bd-871a-618d0f0deca8"
      },
      "execution_count": 2,
      "outputs": [
        {
          "output_type": "execute_result",
          "data": {
            "text/plain": [
              "'Hello'"
            ],
            "application/vnd.google.colaboratory.intrinsic+json": {
              "type": "string"
            }
          },
          "metadata": {},
          "execution_count": 2
        }
      ]
    },
    {
      "cell_type": "code",
      "source": [
        "#Skipping Characters\n",
        "text[::2]"
      ],
      "metadata": {
        "colab": {
          "base_uri": "https://localhost:8080/",
          "height": 36
        },
        "id": "YDYxC014vTpv",
        "outputId": "87055de3-97b0-4ea7-de12-9d3e23bc952d"
      },
      "execution_count": 3,
      "outputs": [
        {
          "output_type": "execute_result",
          "data": {
            "text/plain": [
              "'Hlo ol!'"
            ],
            "application/vnd.google.colaboratory.intrinsic+json": {
              "type": "string"
            }
          },
          "metadata": {},
          "execution_count": 3
        }
      ]
    },
    {
      "cell_type": "code",
      "source": [
        "# Negative Indices\n",
        "text[-6:]"
      ],
      "metadata": {
        "colab": {
          "base_uri": "https://localhost:8080/",
          "height": 36
        },
        "id": "e-hMt2apv1wV",
        "outputId": "8c56be77-4f13-4d9a-d59e-1688a8d3be18"
      },
      "execution_count": 4,
      "outputs": [
        {
          "output_type": "execute_result",
          "data": {
            "text/plain": [
              "'World!'"
            ],
            "application/vnd.google.colaboratory.intrinsic+json": {
              "type": "string"
            }
          },
          "metadata": {},
          "execution_count": 4
        }
      ]
    },
    {
      "cell_type": "code",
      "source": [
        "#Combining Slicing\n",
        "text[7:12:2]"
      ],
      "metadata": {
        "colab": {
          "base_uri": "https://localhost:8080/",
          "height": 36
        },
        "id": "ohg4rZkewIQo",
        "outputId": "33c5bc3e-5253-46e2-a4d8-0f7f1f2248b8"
      },
      "execution_count": 5,
      "outputs": [
        {
          "output_type": "execute_result",
          "data": {
            "text/plain": [
              "'Wrd'"
            ],
            "application/vnd.google.colaboratory.intrinsic+json": {
              "type": "string"
            }
          },
          "metadata": {},
          "execution_count": 5
        }
      ]
    },
    {
      "cell_type": "markdown",
      "source": [
        "Q2)Explain the key features of lists in Python."
      ],
      "metadata": {
        "id": "d58I0zWexW19"
      }
    },
    {
      "cell_type": "markdown",
      "source": [
        "ans)\n",
        "1. Ordered:  \n",
        " Lists maintain the order of elements. The position of each element is defined by its index, starting from 0.\n",
        "\n",
        "2. Mutable:   \n",
        "Lists can be modified after creation. You can add, remove, or change elements without creating a new list.\n",
        "\n",
        "3. Heterogeneous Elements:  \n",
        "A list can hold elements of different data types, such as integers, strings, floats, or even other lists.\n",
        "4. Dynamic Size:  \n",
        "Lists can grow or shrink in size dynamically, meaning you can add or remove elements as needed.\n",
        "\n",
        "5. Indexed Access:   \n",
        "Elements can be accessed using their index. Negative indices allow reverse access.\n",
        "6. Various Methods:  \n",
        "Lists come with built-in methods for operations like appending, removing, sorting, and more.\n",
        "\n",
        "    append(): Add an element to the end.  \n",
        "    remove(): Remove the first occurrence of an element.  \n",
        "    sort(): Sort the list in ascending order.  \n",
        "7. Supports Slicing:  \n",
        "Lists support slicing to extract sublists."
      ],
      "metadata": {
        "id": "3SaL_hzUxf16"
      }
    },
    {
      "cell_type": "markdown",
      "source": [
        "Q3)Describe how to access, modify, and delete elements in a list with examples."
      ],
      "metadata": {
        "id": "ZwQSIjqdyhOL"
      }
    },
    {
      "cell_type": "markdown",
      "source": [
        "ans)Accessing:  \n",
        "    Elements in a list are accessed using their index. Python uses zero-based indexing, and negative indices can be used to access elements from the end.\n",
        "\n",
        "Example:"
      ],
      "metadata": {
        "id": "nmdwJBrtykEb"
      }
    },
    {
      "cell_type": "code",
      "source": [
        "my_list = [10, 20, 30, 40, 50]\n",
        "\n",
        "print(my_list[0])"
      ],
      "metadata": {
        "colab": {
          "base_uri": "https://localhost:8080/"
        },
        "id": "PblstALMy3T5",
        "outputId": "f095837a-685a-4739-c865-ec74b307b9cd"
      },
      "execution_count": 6,
      "outputs": [
        {
          "output_type": "stream",
          "name": "stdout",
          "text": [
            "10\n"
          ]
        }
      ]
    },
    {
      "cell_type": "markdown",
      "source": [
        "Modifying :\n",
        "Lists are mutable, so they can be change individual elements or multiple elements using index or slicing.\n",
        "\n",
        "Example:"
      ],
      "metadata": {
        "id": "zYhY0Yzvy7MH"
      }
    },
    {
      "cell_type": "code",
      "source": [
        "my_list = [10, 20, 30, 40, 50]\n",
        "\n",
        "my_list[1] = 25\n",
        "print(my_list)\n",
        "\n"
      ],
      "metadata": {
        "colab": {
          "base_uri": "https://localhost:8080/"
        },
        "id": "OptTkSsbzvrd",
        "outputId": "3bb92d1d-472d-42e0-acf6-04b8622492ec"
      },
      "execution_count": 7,
      "outputs": [
        {
          "output_type": "stream",
          "name": "stdout",
          "text": [
            "[10, 25, 30, 40, 50]\n"
          ]
        }
      ]
    },
    {
      "cell_type": "code",
      "source": [
        "my_list.insert(2, 15)\n",
        "print(my_list)"
      ],
      "metadata": {
        "colab": {
          "base_uri": "https://localhost:8080/"
        },
        "id": "awGbeYetz5Nz",
        "outputId": "47799989-5cae-440c-bceb-17c0e18b9b75"
      },
      "execution_count": 8,
      "outputs": [
        {
          "output_type": "stream",
          "name": "stdout",
          "text": [
            "[10, 25, 15, 30, 40, 50]\n"
          ]
        }
      ]
    },
    {
      "cell_type": "markdown",
      "source": [
        "Deleting Elements in a List:  \n",
        "You can remove elements using del, remove(), or pop().\n",
        "\n",
        "Using del: Deletes an element by its index or a slice.  \n",
        "Using remove(): Removes the first occurrence of a specific value.   \n",
        "Using pop(): Removes and returns an element at a specific index."
      ],
      "metadata": {
        "id": "Nquh7vZv0X6q"
      }
    },
    {
      "cell_type": "code",
      "source": [
        "my_list = [10, 20, 30, 40, 50]\n",
        "del my_list[1]\n",
        "print(my_list)"
      ],
      "metadata": {
        "colab": {
          "base_uri": "https://localhost:8080/"
        },
        "id": "blP5Z3jE0lug",
        "outputId": "efc313b4-a638-4430-f8a5-f2e2c2c2a9e5"
      },
      "execution_count": 9,
      "outputs": [
        {
          "output_type": "stream",
          "name": "stdout",
          "text": [
            "[10, 30, 40, 50]\n"
          ]
        }
      ]
    },
    {
      "cell_type": "markdown",
      "source": [
        "Q4)Compare and contrast tuples and lists with examples.\n"
      ],
      "metadata": {
        "id": "zB-GUOzB0tfn"
      }
    },
    {
      "cell_type": "markdown",
      "source": [
        "ans)\n",
        "1.Definition:   \n",
        "Tuple: Immutable sequence of elements.  \n",
        "List: Mutable sequence of elements.\n",
        "\n",
        "2.Syntax:  \n",
        "Tuple: Defined using parentheses ( ).      \n",
        "List: Defined using square brackets [ ].\n",
        "\n",
        "3.Mutability:  \n",
        "Tuple: Cannot be modified after creation.    \n",
        "List: Can be modified (add, remove, update elements).\n",
        "\n",
        "4.Performance:  \n",
        "Tuple: Faster due to immutability.   \n",
        "List: Slower due to the overhead of mutability.\n",
        "\n",
        "5.Usage:  \n",
        "Tuple: Ideal for fixed collections like coordinates or configurations.   \n",
        "List: Suitable for dynamic collections where elements change.   \n",
        "\n",
        "6.Methods:   \n",
        "Tuple: Limited methods, e.g., count() and index().   \n",
        "List: Numerous methods, e.g., append(), remove(), pop(), sort().\n",
        "\n",
        "7.Memory Usage:\n",
        "Tuple: Uses less memory.   \n",
        "List: Uses more memory.   \n",
        "\n",
        "8.Iterability:  \n",
        "Both support iteration using loops.\n",
        "\n",
        "Examples:\n"
      ],
      "metadata": {
        "id": "TQUvwn7y1Fxm"
      }
    },
    {
      "cell_type": "code",
      "source": [
        "#Creating a Tuple:\n",
        "my_tuple = (10, 20, 30)\n",
        "my_tuple"
      ],
      "metadata": {
        "colab": {
          "base_uri": "https://localhost:8080/"
        },
        "id": "s3OqWQ-y25j3",
        "outputId": "dbb8e0fb-3973-439a-f289-9c7363969750"
      },
      "execution_count": 11,
      "outputs": [
        {
          "output_type": "execute_result",
          "data": {
            "text/plain": [
              "(10, 20, 30)"
            ]
          },
          "metadata": {},
          "execution_count": 11
        }
      ]
    },
    {
      "cell_type": "code",
      "source": [
        "#Creating List:\n",
        "my_list = [10, 20, 30]\n",
        "my_list"
      ],
      "metadata": {
        "colab": {
          "base_uri": "https://localhost:8080/"
        },
        "id": "hWdNHssx3Iqh",
        "outputId": "d77c4e8d-e71f-4cb7-90a5-cc227f25a74e"
      },
      "execution_count": 12,
      "outputs": [
        {
          "output_type": "execute_result",
          "data": {
            "text/plain": [
              "[10, 20, 30]"
            ]
          },
          "metadata": {},
          "execution_count": 12
        }
      ]
    },
    {
      "cell_type": "code",
      "source": [
        "#Accessing Elements in tuple and list:\n",
        "print(my_tuple[1])\n",
        "print(my_list[2])"
      ],
      "metadata": {
        "colab": {
          "base_uri": "https://localhost:8080/"
        },
        "id": "DX3CVTKd3W2J",
        "outputId": "11a95773-a6d6-44d3-9941-028dd6fa0d0b"
      },
      "execution_count": 14,
      "outputs": [
        {
          "output_type": "stream",
          "name": "stdout",
          "text": [
            "20\n",
            "30\n"
          ]
        }
      ]
    },
    {
      "cell_type": "code",
      "source": [
        "#Modifying Elements:\n",
        "#Tuple: Modification Not possible.\n",
        "#List:\n",
        "my_list[1] = 25\n",
        "my_list"
      ],
      "metadata": {
        "colab": {
          "base_uri": "https://localhost:8080/"
        },
        "id": "s3vHUcss3jJb",
        "outputId": "0009178e-63bb-4dfd-dcc7-fc19f507b269"
      },
      "execution_count": 16,
      "outputs": [
        {
          "output_type": "execute_result",
          "data": {
            "text/plain": [
              "[10, 25, 30]"
            ]
          },
          "metadata": {},
          "execution_count": 16
        }
      ]
    },
    {
      "cell_type": "code",
      "source": [
        "#Adding or Removing:\n",
        "#Tuple: Not will not be supported.\n",
        "#List:\n",
        "my_list.append(40)\n",
        "my_list"
      ],
      "metadata": {
        "colab": {
          "base_uri": "https://localhost:8080/"
        },
        "id": "ttkq7c5E3zC1",
        "outputId": "a31dd385-cb96-4526-af0e-1e97698f7beb"
      },
      "execution_count": 17,
      "outputs": [
        {
          "output_type": "execute_result",
          "data": {
            "text/plain": [
              "[10, 25, 30, 40]"
            ]
          },
          "metadata": {},
          "execution_count": 17
        }
      ]
    },
    {
      "cell_type": "markdown",
      "source": [
        "Q5)Describe the key features of sets and provide examples of their use."
      ],
      "metadata": {
        "id": "6f9G-ERl4evJ"
      }
    },
    {
      "cell_type": "markdown",
      "source": [
        "1.Unordered:   \n",
        "Sets are unordered, meaning elements do not have a specific order, and their position may change.\n",
        "\n",
        "2.No Duplicates:   \n",
        "Sets automatically eliminate duplicate values.    \n",
        "Example:"
      ],
      "metadata": {
        "id": "6joYEwYI5_m4"
      }
    },
    {
      "cell_type": "code",
      "source": [
        "my_set = {1, 2, 2, 3}\n",
        "print(my_set)"
      ],
      "metadata": {
        "colab": {
          "base_uri": "https://localhost:8080/"
        },
        "id": "vUibKl8p6GZ2",
        "outputId": "17f340d1-59a6-4027-d27e-e412ff1b5de7"
      },
      "execution_count": 18,
      "outputs": [
        {
          "output_type": "stream",
          "name": "stdout",
          "text": [
            "{1, 2, 3}\n"
          ]
        }
      ]
    },
    {
      "cell_type": "markdown",
      "source": [
        "3.Mutable:            \n",
        "Sets can be modified (adding or removing elements), but individual elements must be immutable (e.g., numbers, strings, tuples).     \n",
        "\n",
        "4.Defined:   \n",
        "with Curly Braces or set():    \n",
        "Sets are created using {} or the set() function.    \n",
        "Example:   "
      ],
      "metadata": {
        "id": "R50XfHHk6Q5o"
      }
    },
    {
      "cell_type": "code",
      "source": [
        "my_set = {1, 2, 3}\n",
        "empty_set = set()"
      ],
      "metadata": {
        "id": "WtF3gkpa6lSc"
      },
      "execution_count": 19,
      "outputs": []
    },
    {
      "cell_type": "markdown",
      "source": [
        "5.Supports Set Operations:    \n",
        "Sets allow operations like union, intersection, difference, and symmetric difference.     \n",
        "Example:"
      ],
      "metadata": {
        "id": "VUEEJJvG6z89"
      }
    },
    {
      "cell_type": "code",
      "source": [
        "set1 = {1, 2, 3}\n",
        "set2 = {3, 4, 5}\n",
        "print(set1 | set2)\n",
        "print(set1 & set2)"
      ],
      "metadata": {
        "colab": {
          "base_uri": "https://localhost:8080/"
        },
        "id": "J8s0_NSm6tHg",
        "outputId": "56cc8c1a-0719-4fe8-a1cc-765c78858cba"
      },
      "execution_count": 20,
      "outputs": [
        {
          "output_type": "stream",
          "name": "stdout",
          "text": [
            "{1, 2, 3, 4, 5}\n",
            "{3}\n"
          ]
        }
      ]
    },
    {
      "cell_type": "markdown",
      "source": [
        "6.No Indexing or Slicing:   \n",
        "Since sets are unordered, elements cannot be accessed by index. Iteration is possible, though.\n",
        "\n",
        "7.Dynamic:   \n",
        "Sets can grow or shrink in size as elements are added or removed.\n",
        "\n",
        "8.Efficient Membership Testing:    \n",
        "Checking if an element exists in a set is faster compared to lists.   \n",
        "Example:"
      ],
      "metadata": {
        "id": "YvUF9sS-7kFC"
      }
    },
    {
      "cell_type": "code",
      "source": [
        "my_set = {1, 2, 3}\n",
        "print(2 in my_set)"
      ],
      "metadata": {
        "colab": {
          "base_uri": "https://localhost:8080/"
        },
        "id": "jvsXGupz7CrN",
        "outputId": "11b896d2-0fd7-4ad4-fbb5-09667433abe6"
      },
      "execution_count": 21,
      "outputs": [
        {
          "output_type": "stream",
          "name": "stdout",
          "text": [
            "True\n"
          ]
        }
      ]
    },
    {
      "cell_type": "markdown",
      "source": [
        "Q6)Discuss the use cases of tuples and sets in Python programming."
      ],
      "metadata": {
        "id": "yf3a7FqFIWz_"
      }
    },
    {
      "cell_type": "markdown",
      "source": [
        "ans)Tuples:   \n",
        "Tuples are immutable sequences, which makes them suitable for use cases where data should remain constant or requires structure without changes.\n",
        "\n",
        "1.\n",
        "Storing Fixed Data: Tuples are ideal for storing data that should not be modified, like:\n",
        "\n",
        "Coordinates: (latitude, longitude)\n",
        "RGB values for colors: (255, 0, 0)        \n",
        "Example:"
      ],
      "metadata": {
        "id": "Br5nLE85IwsH"
      }
    },
    {
      "cell_type": "code",
      "source": [
        "coordinates = (12.97, 77.59)"
      ],
      "metadata": {
        "id": "yCQ36Waj7xac"
      },
      "execution_count": 22,
      "outputs": []
    },
    {
      "cell_type": "markdown",
      "source": [
        "2.Keys in Dictionaries: Tuples, being immutable, can be used as keys in dictionaries, unlike lists"
      ],
      "metadata": {
        "id": "J7NCLkHAJDuu"
      }
    },
    {
      "cell_type": "code",
      "source": [
        "data = {(\"John\", \"Doe\"): 30, (\"Jane\", \"Smith\"): 25}\n",
        "print(data[(\"John\", \"Doe\")])"
      ],
      "metadata": {
        "colab": {
          "base_uri": "https://localhost:8080/"
        },
        "id": "X2FGj-KUI-qM",
        "outputId": "3e5f1db5-378b-46b1-ee42-2cbe1e06ac54"
      },
      "execution_count": 23,
      "outputs": [
        {
          "output_type": "stream",
          "name": "stdout",
          "text": [
            "30\n"
          ]
        }
      ]
    },
    {
      "cell_type": "markdown",
      "source": [
        "3.Returning Multiple Values: Functions can return multiple values using tuples."
      ],
      "metadata": {
        "id": "r2r-TOixJPw6"
      }
    },
    {
      "cell_type": "code",
      "source": [
        "def get_student():\n",
        "    return \"John\", 20, \"Mathematics\"\n",
        "\n",
        "student = get_student()\n",
        "print(student)"
      ],
      "metadata": {
        "colab": {
          "base_uri": "https://localhost:8080/"
        },
        "id": "LovVdudGJL-0",
        "outputId": "16b74c3c-7759-420f-f15c-7cd1206414c1"
      },
      "execution_count": 24,
      "outputs": [
        {
          "output_type": "stream",
          "name": "stdout",
          "text": [
            "('John', 20, 'Mathematics')\n"
          ]
        }
      ]
    },
    {
      "cell_type": "markdown",
      "source": [
        "4.Performance Optimization: Tuples use less memory and are faster compared to lists, making them efficient for read-only data.\n",
        "\n",
        "5.Heterogeneous Data Storage: Tuples can store multiple types of data in a single structure.\n",
        "\n"
      ],
      "metadata": {
        "id": "4vJGM748Jeks"
      }
    },
    {
      "cell_type": "code",
      "source": [
        "person = (\"Alice\", 30, True)\n"
      ],
      "metadata": {
        "id": "wetoDUpfJdCe"
      },
      "execution_count": 25,
      "outputs": []
    },
    {
      "cell_type": "markdown",
      "source": [
        "Sets:    \n",
        "Sets are unordered collections that store unique elements, making them suitable for scenarios involving membership testing, uniqueness, and mathematical operations.\n",
        "\n",
        "1.Removing Duplicates: Sets are useful for eliminating duplicates from lists or other iterables."
      ],
      "metadata": {
        "id": "o8BcJu1wJsId"
      }
    },
    {
      "cell_type": "code",
      "source": [
        "numbers = [1, 2, 2, 3, 4, 4]\n",
        "unique_numbers = set(numbers)\n",
        "print(unique_numbers)"
      ],
      "metadata": {
        "colab": {
          "base_uri": "https://localhost:8080/"
        },
        "id": "Z5JbZfdCJnkc",
        "outputId": "effd7fd1-617e-4416-eead-954a7e72ac82"
      },
      "execution_count": 26,
      "outputs": [
        {
          "output_type": "stream",
          "name": "stdout",
          "text": [
            "{1, 2, 3, 4}\n"
          ]
        }
      ]
    },
    {
      "cell_type": "markdown",
      "source": [
        "2.Membership Testing: Sets provide fast membership testing compared to lists.\n"
      ],
      "metadata": {
        "id": "Cvscg5OVMXDk"
      }
    },
    {
      "cell_type": "code",
      "source": [
        "my_set = {10, 20, 30}\n",
        "if 20 in my_set:\n",
        "    print(\"Found!\")\n"
      ],
      "metadata": {
        "colab": {
          "base_uri": "https://localhost:8080/"
        },
        "id": "XygsKjgVJy26",
        "outputId": "e0f3fee9-1222-4a26-c829-0ea6c28b8ea9"
      },
      "execution_count": 27,
      "outputs": [
        {
          "output_type": "stream",
          "name": "stdout",
          "text": [
            "Found!\n"
          ]
        }
      ]
    },
    {
      "cell_type": "markdown",
      "source": [
        "3.Mathematical Operations: Sets are great for performing operations like union, intersection, difference, and symmetric difference."
      ],
      "metadata": {
        "id": "cliifKUWMhDR"
      }
    },
    {
      "cell_type": "code",
      "source": [
        "set1 = {1, 2, 3}\n",
        "set2 = {3, 4, 5}\n",
        "print(set1 | set2)\n",
        "print(set1 & set2)\n"
      ],
      "metadata": {
        "colab": {
          "base_uri": "https://localhost:8080/"
        },
        "id": "UYbMsq3HMbpe",
        "outputId": "90cf006e-b21d-4c92-f14d-68f0120242f3"
      },
      "execution_count": 28,
      "outputs": [
        {
          "output_type": "stream",
          "name": "stdout",
          "text": [
            "{1, 2, 3, 4, 5}\n",
            "{3}\n"
          ]
        }
      ]
    },
    {
      "cell_type": "markdown",
      "source": [
        "4.Finding Unique Elements: Sets are useful for extracting unique elements from data like text analysis."
      ],
      "metadata": {
        "id": "4YFQyyCoMtoY"
      }
    },
    {
      "cell_type": "code",
      "source": [
        "words = \"Python is fun and Python is powerful\"\n",
        "unique_words = set(words.split())\n",
        "print(unique_words)\n"
      ],
      "metadata": {
        "colab": {
          "base_uri": "https://localhost:8080/"
        },
        "id": "njiK--v3Mp5P",
        "outputId": "45c46e04-ff1d-40e6-e6c2-7b5a1817e589"
      },
      "execution_count": 29,
      "outputs": [
        {
          "output_type": "stream",
          "name": "stdout",
          "text": [
            "{'fun', 'powerful', 'and', 'Python', 'is'}\n"
          ]
        }
      ]
    },
    {
      "cell_type": "markdown",
      "source": [
        "5.Efficient Lookups: Use sets for lookups in cases where elements need to be checked against a predefined collection."
      ],
      "metadata": {
        "id": "ffv3oHcsM9j-"
      }
    },
    {
      "cell_type": "code",
      "source": [
        "valid_items = {\"apple\", \"banana\", \"cherry\"}\n",
        "if \"apple\" in valid_items:\n",
        "    print(\"Apple is valid.\")\n"
      ],
      "metadata": {
        "colab": {
          "base_uri": "https://localhost:8080/"
        },
        "id": "Mgcfai-gM6tT",
        "outputId": "57123b75-8454-4df0-e917-2ff8f0577bff"
      },
      "execution_count": 30,
      "outputs": [
        {
          "output_type": "stream",
          "name": "stdout",
          "text": [
            "Apple is valid.\n"
          ]
        }
      ]
    },
    {
      "cell_type": "markdown",
      "source": [
        "6.Group Comparison: Sets make comparing groups of data simple, such as finding common or distinct elements."
      ],
      "metadata": {
        "id": "6-hhmvwFNHaL"
      }
    },
    {
      "cell_type": "code",
      "source": [
        "group1 = {\"Alice\", \"Bob\", \"Charlie\"}\n",
        "group2 = {\"Bob\", \"David\"}\n",
        "print(group1 - group2)  # Difference: {'Alice', 'Charlie'}\n"
      ],
      "metadata": {
        "colab": {
          "base_uri": "https://localhost:8080/"
        },
        "id": "5bhmf_bRNEk8",
        "outputId": "b5331e12-b68b-4e74-eaf2-2ddd8078ec36"
      },
      "execution_count": 31,
      "outputs": [
        {
          "output_type": "stream",
          "name": "stdout",
          "text": [
            "{'Alice', 'Charlie'}\n"
          ]
        }
      ]
    },
    {
      "cell_type": "markdown",
      "source": [
        "Q7)Describe how to add, modify, and delete items in a dictionary with examples"
      ],
      "metadata": {
        "id": "uA7NwexgNTC8"
      }
    },
    {
      "cell_type": "markdown",
      "source": [
        "ans)Dictionaries in Python store data as key-value pairs and allow easy manipulation of this data. Here’s how to add, modify, and delete items in a dictionary:"
      ],
      "metadata": {
        "id": "PvvGjXJ8NnQ-"
      }
    },
    {
      "cell_type": "markdown",
      "source": [
        "1. Adding Items to a Dictionary         \n",
        "You can add a new key-value pair to a dictionary by assigning a value to a new key.\n",
        "\n",
        "Example:"
      ],
      "metadata": {
        "id": "pgiuY8MNNx43"
      }
    },
    {
      "cell_type": "code",
      "source": [
        "my_dict = {\"name\": \"Alice\", \"age\": 25}\n",
        "my_dict[\"city\"] = \"Bangalore\"\n",
        "print(my_dict)\n",
        "\n",
        "my_dict.update({\"country\": \"India\", \"profession\": \"Engineer\"})\n",
        "print(my_dict)"
      ],
      "metadata": {
        "colab": {
          "base_uri": "https://localhost:8080/"
        },
        "id": "dn03JRBYNPEK",
        "outputId": "f336c34f-0242-46d3-b0d7-06102adb3faa"
      },
      "execution_count": 32,
      "outputs": [
        {
          "output_type": "stream",
          "name": "stdout",
          "text": [
            "{'name': 'Alice', 'age': 25, 'city': 'Bangalore'}\n",
            "{'name': 'Alice', 'age': 25, 'city': 'Bangalore', 'country': 'India', 'profession': 'Engineer'}\n"
          ]
        }
      ]
    },
    {
      "cell_type": "markdown",
      "source": [
        "2. Modifying Items in a Dictionary     \n",
        "To modify an existing item, assign a new value to an existing key.\n",
        "\n",
        "Example:"
      ],
      "metadata": {
        "id": "XjDN5UY6OHHd"
      }
    },
    {
      "cell_type": "code",
      "source": [
        "\n",
        "my_dict[\"age\"] = 30\n",
        "print(my_dict)\n",
        "\n",
        "my_dict.update({\"name\": \"Bob\", \"city\": \"Mumbai\"})\n",
        "print(my_dict)"
      ],
      "metadata": {
        "colab": {
          "base_uri": "https://localhost:8080/"
        },
        "id": "vxpIj5RMOBla",
        "outputId": "dd9d2716-81ca-4152-b2fb-6e77162fe609"
      },
      "execution_count": 33,
      "outputs": [
        {
          "output_type": "stream",
          "name": "stdout",
          "text": [
            "{'name': 'Alice', 'age': 30, 'city': 'Bangalore', 'country': 'India', 'profession': 'Engineer'}\n",
            "{'name': 'Bob', 'age': 30, 'city': 'Mumbai', 'country': 'India', 'profession': 'Engineer'}\n"
          ]
        }
      ]
    },
    {
      "cell_type": "markdown",
      "source": [
        "3. Deleting Items from a Dictionary        \n",
        "Dictionaries support multiple ways to remove items:"
      ],
      "metadata": {
        "id": "AHq3223KOZEA"
      }
    },
    {
      "cell_type": "markdown",
      "source": [
        "a. Using del           \n",
        "Deletes a specific key-value pair by key."
      ],
      "metadata": {
        "id": "TxkH0YK8Ohfc"
      }
    },
    {
      "cell_type": "code",
      "source": [
        "\n",
        "del my_dict[\"city\"]\n",
        "print(my_dict)\n"
      ],
      "metadata": {
        "colab": {
          "base_uri": "https://localhost:8080/"
        },
        "id": "zJjeB-vrOSM0",
        "outputId": "6c7d26e1-6cea-4a1e-eeb4-7e08967e2ad1"
      },
      "execution_count": 34,
      "outputs": [
        {
          "output_type": "stream",
          "name": "stdout",
          "text": [
            "{'name': 'Bob', 'age': 30, 'country': 'India', 'profession': 'Engineer'}\n"
          ]
        }
      ]
    },
    {
      "cell_type": "markdown",
      "source": [
        "b. Using pop()               \n",
        "Removes an item by key and returns its value."
      ],
      "metadata": {
        "id": "tcBY44LnOrsf"
      }
    },
    {
      "cell_type": "code",
      "source": [
        "\n",
        "age = my_dict.pop(\"age\")\n",
        "print(age)\n",
        "print(my_dict)\n"
      ],
      "metadata": {
        "colab": {
          "base_uri": "https://localhost:8080/"
        },
        "id": "JO2MYleNOnOH",
        "outputId": "164d730b-d1a3-4615-bdae-c0796fa35803"
      },
      "execution_count": 35,
      "outputs": [
        {
          "output_type": "stream",
          "name": "stdout",
          "text": [
            "30\n",
            "{'name': 'Bob', 'country': 'India', 'profession': 'Engineer'}\n"
          ]
        }
      ]
    },
    {
      "cell_type": "markdown",
      "source": [
        "Q8) Discuss the importance of dictionary keys being immutable and provide example"
      ],
      "metadata": {
        "id": "33OlzxLLPDre"
      }
    },
    {
      "cell_type": "markdown",
      "source": [
        "ans)In Python, dictionary keys must be immutable because they are stored using a hashing mechanism. A key's immutability ensures that its hash value remains constant, which is crucial for maintaining the dictionary's integrity and ensuring efficient lookups. If keys were mutable, their hash values could change, leading to inconsistencies and making the dictionary unreliable."
      ],
      "metadata": {
        "id": "8LmZc_bGPR5M"
      }
    },
    {
      "cell_type": "markdown",
      "source": [
        "Examples\n"
      ],
      "metadata": {
        "id": "QxymOXwJPiw2"
      }
    },
    {
      "cell_type": "code",
      "source": [
        "#Valid Keys (Immutable)\n",
        "# Using immutable types as keys\n",
        "my_dict = {\n",
        "    \"name\": \"Alice\",\n",
        "    1: \"One\",\n",
        "    (10, 20): \"Point\"\n",
        "}\n",
        "print(my_dict[\"name\"])\n"
      ],
      "metadata": {
        "colab": {
          "base_uri": "https://localhost:8080/"
        },
        "id": "vieMVCwTOz7-",
        "outputId": "d2e75e6e-cdf1-41a0-df0e-c3b5a9a6acd0"
      },
      "execution_count": 36,
      "outputs": [
        {
          "output_type": "stream",
          "name": "stdout",
          "text": [
            "Alice\n"
          ]
        }
      ]
    },
    {
      "cell_type": "code",
      "source": [
        "#Invalid Keys (Mutable)\n",
        "# Attempting to use a mutable list as a key\n",
        "my_dict = {}\n",
        "my_list = [1, 2, 3]\n",
        "\n",
        "try:\n",
        "    my_dict[my_list] = \"Value\"\n",
        "except TypeError as e:\n",
        "    print(e)\n"
      ],
      "metadata": {
        "id": "CNm4guWbP0fp"
      },
      "execution_count": null,
      "outputs": []
    }
  ]
}