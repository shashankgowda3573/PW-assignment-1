{
  "nbformat": 4,
  "nbformat_minor": 0,
  "metadata": {
    "colab": {
      "provenance": [],
      "authorship_tag": "ABX9TyM/tsyDe0f0hySirmZvf7N4",
      "include_colab_link": true
    },
    "kernelspec": {
      "name": "python3",
      "display_name": "Python 3"
    },
    "language_info": {
      "name": "python"
    }
  },
  "cells": [
    {
      "cell_type": "markdown",
      "metadata": {
        "id": "view-in-github",
        "colab_type": "text"
      },
      "source": [
        "<a href=\"https://colab.research.google.com/github/shashankgowda3573/PW-assignment-1/blob/main/Assignment4OOPS.ipynb\" target=\"_parent\"><img src=\"https://colab.research.google.com/assets/colab-badge.svg\" alt=\"Open In Colab\"/></a>"
      ]
    },
    {
      "cell_type": "markdown",
      "source": [
        "1)What are the five key concepts of Object-Oriented Programming (OOP)?"
      ],
      "metadata": {
        "id": "GpOrgVJOoEwv"
      }
    },
    {
      "cell_type": "markdown",
      "source": [
        "Ans)Class:\n",
        "A class is a blueprint to create objects; It describes a set of properties and methods that objects created from the class will have. For example, the class might have attributes like color, model, and drive() and brake() as methods associated with that class.\n",
        "\n",
        "Object\n",
        ":An object is a particular instance of a class. It is the actual representation of class, it has assigned values of properties.\n",
        "For instance, an example of the object of the class Car may be a red Toyota Corolla that can drive and brake.\n",
        "\n",
        "Encapsulation\n",
        ":Data (attributes) and functions (methods) will be included into a single unit, which is a class. It also involves the prevention of unauthorized and direct access to some data/functionality by using access modifiers like private, protected or public.\n",
        "\n",
        "Inheritance\n",
        ":In this way, a class is able to include properties and methods from other classes; such class is called child or subclass. The parent or superclass from which the properties and methods are inherited is called the parent class. For example, say we have a class named SportsCar, that will inherit features of a Car class and have an additional method like turboBoost().\n",
        "\n",
        "Polymorphism\n",
        ":Many forms, polymorphism allows methods to do different jobs based on the object from which they are called. The two categories of polymorphism are method overriding and method overloading which are based on defining methods under two differing classes."
      ],
      "metadata": {
        "id": "Hm0MycnyoOXU"
      }
    },
    {
      "cell_type": "markdown",
      "source": [
        "2)Write a Python class for a Car with attributes for make, model, and year. Include a method to display\n",
        "the car's information."
      ],
      "metadata": {
        "id": "nd4kQYSjphYX"
      }
    },
    {
      "cell_type": "code",
      "source": [
        "class Car:\n",
        "    def __init__(self, make, model, year):\n",
        "        \"\"\"\n",
        "        Initializes the Car object with make, model, and year.\n",
        "        \"\"\"\n",
        "        self.make = make\n",
        "        self.model = model\n",
        "        self.year = year\n",
        "\n",
        "    def display_info(self):\n",
        "        \"\"\"\n",
        "        Displays the car's information in a user-friendly format.\n",
        "        \"\"\"\n",
        "        return f\"{self.year} {self.make} {self.model}\"\n",
        "\n",
        "\n",
        "my_car = Car(\"Toyota\", \"Corolla\", 2021)\n",
        "print(my_car.display_info())\n"
      ],
      "metadata": {
        "colab": {
          "base_uri": "https://localhost:8080/"
        },
        "id": "7YDiyAnOp6SW",
        "outputId": "bce81c09-d9f3-4591-cf87-4e6018c0eeb6"
      },
      "execution_count": 1,
      "outputs": [
        {
          "output_type": "stream",
          "name": "stdout",
          "text": [
            "2021 Toyota Corolla\n"
          ]
        }
      ]
    },
    {
      "cell_type": "markdown",
      "source": [
        "3. Explain the difference between instance methods and class methods. Provide an example of each."
      ],
      "metadata": {
        "id": "Dher_aFwqHpF"
      }
    },
    {
      "cell_type": "markdown",
      "source": [
        "ans)Instance Methods:\n",
        "\n",
        "They are methods that relate to a particular instance of a class. These methods\n",
        "use instance level data (attributes) and access the instance's attributes. They are defined using the def keyword with self as the first parameter that always refers to the instance in reference.\n",
        "\n",
        "These methods pertain to a class instance. They work on instance-level data- or attributes-and can thus access and alter the attributes of an instance. They are defined by the keyword def; the first parameter is self, which refers to the present instance.\n",
        "\n",
        "Class Methods:\n",
        "\n",
        "These methods relate not to a single instance of the class but to the class as a whole. They operate on class-level data, i.e. attributes associated with all instances. They are defined with the use of the @classmethod decorator with cls as the first parameter, referring as ever to the class definition itself.\n",
        "\n",
        "These methods are generic to the entire class, as out of a single instance. They operate on class data, that is, attributes common to all instances defined by the use of this decorator: @classmethod and cls as a first argument-to refer to itself."
      ],
      "metadata": {
        "id": "SWVyAjDQqdni"
      }
    },
    {
      "cell_type": "code",
      "source": [
        "class Example:\n",
        "    class_attribute = \"I am a class attribute\"\n",
        "\n",
        "    def __init__(self, instance_attribute):\n",
        "        self.instance_attribute = instance_attribute\n",
        "\n",
        "    def instance_method(self):\n",
        "        return f\"Instance Attribute: {self.instance_attribute}\"\n",
        "\n",
        "\n",
        "    @classmethod\n",
        "    def class_method(cls):\n",
        "        return f\"Class Attribute: {cls.class_attribute}\"\n",
        "\n",
        "\n",
        "example_obj = Example(\"I am an instance attribute\")\n",
        "\n",
        "\n",
        "print(example_obj.instance_method())\n",
        "print(Example.class_method())\n"
      ],
      "metadata": {
        "colab": {
          "base_uri": "https://localhost:8080/"
        },
        "id": "173Mvp4ip7lp",
        "outputId": "fcdce395-cf06-4cfa-f6a6-bd79322ee0c6"
      },
      "execution_count": 2,
      "outputs": [
        {
          "output_type": "stream",
          "name": "stdout",
          "text": [
            "Instance Attribute: I am an instance attribute\n",
            "Class Attribute: I am a class attribute\n"
          ]
        }
      ]
    },
    {
      "cell_type": "markdown",
      "source": [
        "4. How does Python implement method overloading? Give an example."
      ],
      "metadata": {
        "id": "z082ZhdZrP-L"
      }
    },
    {
      "cell_type": "markdown",
      "source": [
        "ans)Python doesn’t support method overloading in the traditional sense as seen in languages like Java or C++. Instead, Python allows you to define a single method and handle different types or numbers of arguments using default arguments, *args, or **kwargs.\n",
        "\n",
        "Example:"
      ],
      "metadata": {
        "id": "BK4SzYwArYHC"
      }
    },
    {
      "cell_type": "code",
      "source": [
        "class Calculator:\n",
        "    def add(self, a, b=0, c=0):\n",
        "        \"\"\"\n",
        "        Adds up to three numbers. Additional parameters have default values.\n",
        "        \"\"\"\n",
        "        return a + b + c\n",
        "\n",
        "calc = Calculator()\n",
        "\n",
        "print(calc.add(5))\n",
        "print(calc.add(5, 10))\n",
        "print(calc.add(5, 10, 15))\n"
      ],
      "metadata": {
        "colab": {
          "base_uri": "https://localhost:8080/"
        },
        "id": "bGKUfft0raoL",
        "outputId": "09977e38-e7b4-496b-fa68-8c1dacc8c406"
      },
      "execution_count": 3,
      "outputs": [
        {
          "output_type": "stream",
          "name": "stdout",
          "text": [
            "5\n",
            "15\n",
            "30\n"
          ]
        }
      ]
    },
    {
      "cell_type": "markdown",
      "source": [
        "Overloading with *args:\n",
        "Another way to implement method overloading is using *args to accept a variable number of arguments:\n",
        "\n",
        "Example:"
      ],
      "metadata": {
        "id": "ieE0mKKIsLDp"
      }
    },
    {
      "cell_type": "code",
      "source": [
        "class Calculator:\n",
        "    def add(self, *args):\n",
        "        \"\"\"\n",
        "        Adds any number of arguments.\n",
        "        \"\"\"\n",
        "        return sum(args)\n",
        "\n",
        "\n",
        "calc = Calculator()\n",
        "\n",
        "print(calc.add(5))\n",
        "print(calc.add(5, 10))\n",
        "print(calc.add(5, 10, 15, 20))\n"
      ],
      "metadata": {
        "colab": {
          "base_uri": "https://localhost:8080/"
        },
        "id": "4tTItdPtrIj2",
        "outputId": "49fa8e01-6992-4102-de4c-d5afb3e74092"
      },
      "execution_count": 4,
      "outputs": [
        {
          "output_type": "stream",
          "name": "stdout",
          "text": [
            "5\n",
            "15\n",
            "50\n"
          ]
        }
      ]
    },
    {
      "cell_type": "markdown",
      "source": [
        "5. What are the three types of access modifiers in Python? How are they denoted?"
      ],
      "metadata": {
        "id": "ALAHDsajtBgQ"
      }
    },
    {
      "cell_type": "markdown",
      "source": [
        "Ans)Open to all: It means that the member could be entered by anyone from inside or outside the class.\n",
        "How denoted: Members public are declared without any special markings.\n",
        "\n",
        "\n",
        "Example:"
      ],
      "metadata": {
        "id": "K-RG9t5otc6m"
      }
    },
    {
      "cell_type": "code",
      "source": [
        "class Example:\n",
        "    def __init__(self):\n",
        "        self.public_attribute = \"I am public\"\n",
        "\n",
        "    def public_method(self):\n",
        "        return \"This is a public method\"\n",
        "\n",
        "obj = Example()\n",
        "print(obj.public_attribute)\n",
        "print(obj.public_method())\n"
      ],
      "metadata": {
        "colab": {
          "base_uri": "https://localhost:8080/"
        },
        "id": "s-YENZXCtMns",
        "outputId": "fdfff28c-bd2c-45c9-9fc8-f836b232327d"
      },
      "execution_count": 5,
      "outputs": [
        {
          "output_type": "stream",
          "name": "stdout",
          "text": [
            "I am public\n",
            "This is a public method\n"
          ]
        }
      ]
    },
    {
      "cell_type": "markdown",
      "source": [
        "protected:\n",
        "\n",
        "The member can be accessed within the class and its subclasses. However, there are no hard-and-fast restrictions applied by python; it's all a matter of convention.\n",
        "\n",
        "How to write it: By prefixing the member name with a single underscore _.\n",
        "\n",
        "Example:"
      ],
      "metadata": {
        "id": "nCoXoWkWukp7"
      }
    },
    {
      "cell_type": "code",
      "source": [
        "class Example:\n",
        "    def __init__(self):\n",
        "        self._protected_attribute = \"I am protected\"\n",
        "\n",
        "    def _protected_method(self):\n",
        "        return \"This is a protected method\"\n",
        "\n",
        "class SubExample(Example):\n",
        "    def access_protected(self):\n",
        "        return self._protected_attribute\n",
        "\n",
        "obj = SubExample()\n",
        "print(obj._protected_attribute)\n",
        "print(obj.access_protected())\n"
      ],
      "metadata": {
        "colab": {
          "base_uri": "https://localhost:8080/"
        },
        "id": "YwkrZszHtuAq",
        "outputId": "3ab6487e-d86f-4bec-b69a-c382f745f974"
      },
      "execution_count": 6,
      "outputs": [
        {
          "output_type": "stream",
          "name": "stdout",
          "text": [
            "I am protected\n",
            "I am protected\n"
          ]
        }
      ]
    },
    {
      "cell_type": "markdown",
      "source": [
        " Private:\n",
        "\n",
        "What they're about: The member should be open to any access only inside a class. Python uses name mangling for making access outside harder but will allow access if you know the mangled name.\n",
        "\n",
        "Denotation: Prefix member name with \"__\".\n",
        "\n",
        "Example:"
      ],
      "metadata": {
        "id": "bpr4ldFau-CP"
      }
    },
    {
      "cell_type": "code",
      "source": [
        "class Example:\n",
        "    def __init__(self):\n",
        "        self.__private_attribute = \"I am private\"\n",
        "\n",
        "    def __private_method(self):\n",
        "        return \"This is a private method\"\n",
        "\n",
        "    def access_private(self):\n",
        "        return self.__private_attribute\n",
        "\n",
        "obj = Example()\n",
        "print(obj.access_private())\n"
      ],
      "metadata": {
        "colab": {
          "base_uri": "https://localhost:8080/"
        },
        "id": "iTCVrs0FvBUD",
        "outputId": "2c2a8541-49a6-43bf-fcd9-f4a27bda7763"
      },
      "execution_count": 7,
      "outputs": [
        {
          "output_type": "stream",
          "name": "stdout",
          "text": [
            "I am private\n"
          ]
        }
      ]
    },
    {
      "cell_type": "markdown",
      "source": [
        "6. Describe the five types of inheritance in Python. Provide a simple example of multiple inheritance."
      ],
      "metadata": {
        "id": "dvMJIy5ivYup"
      }
    },
    {
      "cell_type": "markdown",
      "source": [
        "Ans)Five Types of Inheritance in Python\n",
        "\n",
        "i)Single Inheritance\n",
        "\n",
        "A child class inherits from a single parent class.\n",
        "\n",
        "Example:\n"
      ],
      "metadata": {
        "id": "3UfPjWdIvaD4"
      }
    },
    {
      "cell_type": "code",
      "source": [
        "class Parent:\n",
        "    def greet(self):\n",
        "        return \"Hello from Parent!\"\n",
        "\n",
        "class Child(Parent):\n",
        "    pass\n",
        "\n",
        "obj = Child()\n",
        "print(obj.greet())\n"
      ],
      "metadata": {
        "colab": {
          "base_uri": "https://localhost:8080/"
        },
        "id": "aXaxisonvQG_",
        "outputId": "6d04921e-e3a1-4d06-ac69-32b54c806a33"
      },
      "execution_count": 8,
      "outputs": [
        {
          "output_type": "stream",
          "name": "stdout",
          "text": [
            "Hello from Parent!\n"
          ]
        }
      ]
    },
    {
      "cell_type": "markdown",
      "source": [
        "ii)Multiple Inheritance\n",
        "\n",
        "A child class inherits from two or more parent classes.\n",
        "\n",
        "Example:"
      ],
      "metadata": {
        "id": "0oq8kILtvpIv"
      }
    },
    {
      "cell_type": "code",
      "source": [
        "class Parent1:\n",
        "    def greet(self):\n",
        "        return \"Hello from Parent1!\"\n",
        "\n",
        "class Parent2:\n",
        "    def welcome(self):\n",
        "        return \"Hello from Parent2!\"\n",
        "\n",
        "class Child(Parent1, Parent2):\n",
        "    pass\n",
        "\n",
        "obj = Child()\n",
        "print(obj.greet())\n",
        "print(obj.welcome())"
      ],
      "metadata": {
        "colab": {
          "base_uri": "https://localhost:8080/"
        },
        "id": "TF4X5vnFvk-b",
        "outputId": "4ebc34e7-6289-4ed2-eb97-6c06ba8195dd"
      },
      "execution_count": 9,
      "outputs": [
        {
          "output_type": "stream",
          "name": "stdout",
          "text": [
            "Hello from Parent1!\n",
            "Hello from Parent2!\n"
          ]
        }
      ]
    },
    {
      "cell_type": "markdown",
      "source": [
        "iii)Multilevel Inheritance\n",
        "\n",
        "A child class inherits from a parent class, which itself inherits from another class.\n",
        "\n",
        "Example:"
      ],
      "metadata": {
        "id": "VusVkd5fv7zR"
      }
    },
    {
      "cell_type": "code",
      "source": [
        "class Grandparent:\n",
        "    def greet(self):\n",
        "        return \"Hello from Grandparent!\"\n",
        "\n",
        "class Parent(Grandparent):\n",
        "    pass\n",
        "\n",
        "class Child(Parent):\n",
        "    pass\n",
        "\n",
        "obj = Child()\n",
        "print(obj.greet())\n"
      ],
      "metadata": {
        "colab": {
          "base_uri": "https://localhost:8080/"
        },
        "id": "6glV5R_Tv3OO",
        "outputId": "00fa9b19-e38d-4e4a-c6a0-a961773ad9a0"
      },
      "execution_count": 10,
      "outputs": [
        {
          "output_type": "stream",
          "name": "stdout",
          "text": [
            "Hello from Grandparent!\n"
          ]
        }
      ]
    },
    {
      "cell_type": "markdown",
      "source": [
        "iv)Hierarchical Inheritance\n",
        "\n",
        "Multiple child classes inherit from a single parent class.\n",
        "\n",
        "Example:"
      ],
      "metadata": {
        "id": "SUWZbyZ3wJ3a"
      }
    },
    {
      "cell_type": "code",
      "source": [
        "class Parent:\n",
        "    def greet(self):\n",
        "        return \"Hello from Parent!\"\n",
        "\n",
        "class Child1(Parent):\n",
        "    pass\n",
        "\n",
        "class Child2(Parent):\n",
        "    pass\n",
        "\n",
        "obj1 = Child1()\n",
        "obj2 = Child2()\n",
        "print(obj1.greet())\n",
        "print(obj2.greet())\n"
      ],
      "metadata": {
        "colab": {
          "base_uri": "https://localhost:8080/"
        },
        "id": "NG-Uy4a5wDPf",
        "outputId": "d2601bfe-7491-4e80-eab4-49e95cd9d147"
      },
      "execution_count": 11,
      "outputs": [
        {
          "output_type": "stream",
          "name": "stdout",
          "text": [
            "Hello from Parent!\n",
            "Hello from Parent!\n"
          ]
        }
      ]
    },
    {
      "cell_type": "markdown",
      "source": [
        "v)Hybrid Inheritance\n",
        "\n",
        "A mix of two or more types of inheritance, like combining hierarchical and multiple inheritance.\n",
        "\n",
        "Example:"
      ],
      "metadata": {
        "id": "ExdSa4pNwds0"
      }
    },
    {
      "cell_type": "code",
      "source": [
        "class Base:\n",
        "    def base_method(self):\n",
        "        return \"Hello from Base!\"\n",
        "\n",
        "class Parent1(Base):\n",
        "    def parent1_method(self):\n",
        "        return \"Hello from Parent1!\"\n",
        "\n",
        "class Parent2(Base):\n",
        "    def parent2_method(self):\n",
        "        return \"Hello from Parent2!\"\n",
        "\n",
        "class Child(Parent1, Parent2):\n",
        "    pass\n",
        "\n",
        "obj = Child()\n",
        "print(obj.base_method())\n",
        "print(obj.parent1_method())\n",
        "print(obj.parent2_method())\n"
      ],
      "metadata": {
        "colab": {
          "base_uri": "https://localhost:8080/"
        },
        "id": "HfRBkryBwRRu",
        "outputId": "a4402c8f-a467-4dc3-83ab-7dfd0c95827f"
      },
      "execution_count": 12,
      "outputs": [
        {
          "output_type": "stream",
          "name": "stdout",
          "text": [
            "Hello from Base!\n",
            "Hello from Parent1!\n",
            "Hello from Parent2!\n"
          ]
        }
      ]
    },
    {
      "cell_type": "markdown",
      "source": [
        "7. What is the Method Resolution Order (MRO) in Python? How can you retrieve it programmatically?\n"
      ],
      "metadata": {
        "id": "kdMd2ariw28M"
      }
    },
    {
      "cell_type": "markdown",
      "source": [
        "Ans)MRO in Python\n",
        "\n",
        "The Method Resolution Order (MRO) resolves the order in which Python searches for a method or attribute within the class hierarchy. This feature becomes all the more useful in multiple inheritance scenarios in which the class in question has more than one parent class.\n",
        "\n",
        "The following are ensured by MRO:\n",
        "\n",
        "Predictable order for method and attribute resolution.\n",
        "C3 linearization of order, maintaining the invariance and thus making each class appear exactly once in the resolution path.\n",
        "\n",
        "Rules of MRO:\n",
        "\n",
        "Python searches the method in the class itself first.\n",
        "\n",
        "If not found, it searches in the parent classes based on the MRO.\n",
        "\n",
        "The search follows a depth-first, left-to-right pattern, respecting inheritance hierarchy and avoiding redundant visits."
      ],
      "metadata": {
        "id": "ypisqBQNxLFM"
      }
    },
    {
      "cell_type": "markdown",
      "source": [
        "Retrieving MRO Programmatically\n",
        "\n",
        "You can retrieve the MRO for any class using:\n",
        "\n",
        "\n",
        "ClassName.mro(): Returns the MRO as a list.\n",
        "\n",
        "help(ClassName): Displays the MRO along with other class details.\n",
        "\n",
        "Example:\n",
        "\n",
        "\n"
      ],
      "metadata": {
        "id": "pFdZi164yULe"
      }
    },
    {
      "cell_type": "code",
      "source": [
        "class A:\n",
        "    def greet(self):\n",
        "        return \"Hello from A\"\n",
        "\n",
        "class B(A):\n",
        "    pass\n",
        "\n",
        "class C(A):\n",
        "    def greet(self):\n",
        "        return \"Hello from C\"\n",
        "\n",
        "class D(B, C):\n",
        "    pass\n",
        "print(D.mro())\n",
        "help(D)\n"
      ],
      "metadata": {
        "colab": {
          "base_uri": "https://localhost:8080/"
        },
        "id": "p1VDB0hxyaJe",
        "outputId": "74396e17-9f2a-49ee-c09f-65a82b37a8d2"
      },
      "execution_count": 13,
      "outputs": [
        {
          "output_type": "stream",
          "name": "stdout",
          "text": [
            "[<class '__main__.D'>, <class '__main__.B'>, <class '__main__.C'>, <class '__main__.A'>, <class 'object'>]\n",
            "Help on class D in module __main__:\n",
            "\n",
            "class D(B, C)\n",
            " |  Method resolution order:\n",
            " |      D\n",
            " |      B\n",
            " |      C\n",
            " |      A\n",
            " |      builtins.object\n",
            " |  \n",
            " |  Methods inherited from C:\n",
            " |  \n",
            " |  greet(self)\n",
            " |  \n",
            " |  ----------------------------------------------------------------------\n",
            " |  Data descriptors inherited from A:\n",
            " |  \n",
            " |  __dict__\n",
            " |      dictionary for instance variables (if defined)\n",
            " |  \n",
            " |  __weakref__\n",
            " |      list of weak references to the object (if defined)\n",
            "\n"
          ]
        }
      ]
    },
    {
      "cell_type": "markdown",
      "source": [
        "8. Create an abstract base class `Shape` with an abstract method `area()`. Then create two subclasses\n",
        "`Circle` and `Rectangle` that implement the `area()` method"
      ],
      "metadata": {
        "id": "eItBrTT6ysc4"
      }
    },
    {
      "cell_type": "code",
      "source": [
        "from abc import ABC, abstractmethod\n",
        "import math\n",
        "\n",
        "\n",
        "class Shape(ABC):\n",
        "    @abstractmethod\n",
        "    def area(self):\n",
        "        \"\"\"\n",
        "        Abstract method to compute the area of the shape.\n",
        "        Must be implemented by subclasses.\n",
        "        \"\"\"\n",
        "        pass\n",
        "\n",
        "# Subclass for Circle\n",
        "class Circle(Shape):\n",
        "    def __init__(self, radius):\n",
        "        self.radius = radius\n",
        "\n",
        "    def area(self):\n",
        "        \"\"\"\n",
        "        Implements the area calculation for a circle.\n",
        "        \"\"\"\n",
        "        return math.pi * self.radius ** 2\n",
        "class Rectangle(Shape):\n",
        "    def __init__(self, width, height):\n",
        "        self.width = width\n",
        "        self.height = height\n",
        "\n",
        "    def area(self):\n",
        "        \"\"\"\n",
        "        Implements the area calculation for a rectangle.\n",
        "        \"\"\"\n",
        "        return self.width * self.height\n",
        "\n",
        "\n",
        "circle = Circle(radius=5)\n",
        "rectangle = Rectangle(width=4, height=6)\n",
        "\n",
        "print(f\"Circle Area: {circle.area():.2f}\")\n",
        "print(f\"Rectangle Area: {rectangle.area()}\")\n"
      ],
      "metadata": {
        "colab": {
          "base_uri": "https://localhost:8080/"
        },
        "id": "bWVpwIQ4wtDG",
        "outputId": "bf9b14c1-99d2-4961-bd33-eb94bc83f696"
      },
      "execution_count": 14,
      "outputs": [
        {
          "output_type": "stream",
          "name": "stdout",
          "text": [
            "Circle Area: 78.54\n",
            "Rectangle Area: 24\n"
          ]
        }
      ]
    },
    {
      "cell_type": "markdown",
      "source": [
        "9. Demonstrate polymorphism by creating a function that can work with different shape objects to calculate\n",
        "and print their areas."
      ],
      "metadata": {
        "id": "vW-bFnoXzDAB"
      }
    },
    {
      "cell_type": "code",
      "source": [
        "from abc import ABC, abstractmethod\n",
        "import math\n",
        "\n",
        "class Shape(ABC):\n",
        "    @abstractmethod\n",
        "    def area(self):\n",
        "        \"\"\"\n",
        "        Abstract method to compute the area of the shape.\n",
        "        Must be implemented by subclasses.\n",
        "        \"\"\"\n",
        "        pass\n",
        "\n",
        "\n",
        "class Circle(Shape):\n",
        "    def __init__(self, radius):\n",
        "        self.radius = radius\n",
        "\n",
        "    def area(self):\n",
        "        \"\"\"\n",
        "        Implements the area calculation for a circle.\n",
        "        \"\"\"\n",
        "        return math.pi * self.radius ** 2\n",
        "\n",
        "\n",
        "class Rectangle(Shape):\n",
        "    def __init__(self, width, height):\n",
        "        self.width = width\n",
        "        self.height = height\n",
        "\n",
        "    def area(self):\n",
        "        \"\"\"\n",
        "        Implements the area calculation for a rectangle.\n",
        "        \"\"\"\n",
        "        return self.width * self.height\n",
        "\n",
        "def print_area(shape):\n",
        "    \"\"\"\n",
        "    Accepts any shape object and prints its area.\n",
        "    \"\"\"\n",
        "    print(f\"The area is: {shape.area():.2f}\")\n",
        "\n",
        "\n",
        "circle = Circle(radius=5)\n",
        "rectangle = Rectangle(width=4, height=6)\n",
        "\n",
        "\n",
        "print_area(circle)\n",
        "print_area(rectangle)\n"
      ],
      "metadata": {
        "colab": {
          "base_uri": "https://localhost:8080/"
        },
        "id": "79tV52T8y8Zh",
        "outputId": "e9ae54bf-7961-440b-a72c-1b4b386255fc"
      },
      "execution_count": 15,
      "outputs": [
        {
          "output_type": "stream",
          "name": "stdout",
          "text": [
            "The area is: 78.54\n",
            "The area is: 24.00\n"
          ]
        }
      ]
    },
    {
      "cell_type": "markdown",
      "source": [
        "10. Implement encapsulation in a `BankAccount` class with private attributes for `balance` and\n",
        "`account_number`. Include methods for deposit, withdrawal, and balance inquiry."
      ],
      "metadata": {
        "id": "80-tSQf40Atx"
      }
    },
    {
      "cell_type": "code",
      "source": [
        "class BankAccount:\n",
        "    def __init__(self, account_number, initial_balance=0):\n",
        "        self.__account_number = account_number\n",
        "        self.__balance = initial_balance\n",
        "    def deposit(self, amount):\n",
        "        if amount > 0:\n",
        "            self.__balance += amount\n",
        "            print(f\"Deposited: {amount}\")\n",
        "        else:\n",
        "            print(\"Deposit amount must be positive.\")\n",
        "\n",
        "    def withdraw(self, amount):\n",
        "        if amount > 0 and amount <= self.__balance:\n",
        "            self.__balance -= amount\n",
        "            print(f\"Withdrawn: {amount}\")\n",
        "        else:\n",
        "            print(\"Invalid withdrawal amount or insufficient balance.\")\n",
        "\n",
        "    def get_balance(self):\n",
        "        return self.__balance\n",
        "    def get_account_number(self):\n",
        "        return self.__account_number\n",
        "\n",
        "\n",
        "account = BankAccount(account_number=\"123456789\", initial_balance=1000)\n",
        "account.deposit(500)\n",
        "account.withdraw(300)\n",
        "print(f\"Current Balance: {account.get_balance()}\")\n",
        "\n",
        "\n"
      ],
      "metadata": {
        "colab": {
          "base_uri": "https://localhost:8080/"
        },
        "id": "H9TqJX08zdw6",
        "outputId": "3a0098fd-2f3f-4acd-9031-8e585d2c0be4"
      },
      "execution_count": 16,
      "outputs": [
        {
          "output_type": "stream",
          "name": "stdout",
          "text": [
            "Deposited: 500\n",
            "Withdrawn: 300\n",
            "Current Balance: 1200\n"
          ]
        }
      ]
    },
    {
      "cell_type": "code",
      "source": [],
      "metadata": {
        "id": "_hYAPQ700bZa"
      },
      "execution_count": null,
      "outputs": []
    },
    {
      "cell_type": "markdown",
      "source": [
        "11) Write a class that overrides the `__str__` and `__add__` magic methods. What will these methods allow\n",
        "you to do?\n",
        "\n",
        "\n"
      ],
      "metadata": {
        "id": "XfdNbNrV0iVx"
      }
    },
    {
      "cell_type": "code",
      "source": [
        "class Box:\n",
        "    def __init__(self, length, width):\n",
        "        self.length = length\n",
        "        self.width = width\n",
        "\n",
        "    def __str__(self):\n",
        "        return f\"Box: {self.length} x {self.width}\"\n",
        "\n",
        "    def __add__(self, other):\n",
        "        if isinstance(other, Box):\n",
        "            new_length = self.length + other.length\n",
        "            new_width = self.width + other.width\n",
        "            return Box(new_length, new_width)\n",
        "        return NotImplemented\n",
        "box1 = Box(4, 5)\n",
        "box2 = Box(3, 2)\n",
        "\n",
        "print(box1)\n",
        "print(box2)\n",
        "\n",
        "\n",
        "box3 = box1 + box2\n",
        "print(box3)\n"
      ],
      "metadata": {
        "colab": {
          "base_uri": "https://localhost:8080/"
        },
        "id": "PL6QRB0c0i4E",
        "outputId": "5f535308-80cf-45f2-a404-82ecd760d75f"
      },
      "execution_count": 17,
      "outputs": [
        {
          "output_type": "stream",
          "name": "stdout",
          "text": [
            "Box: 4 x 5\n",
            "Box: 3 x 2\n",
            "Box: 7 x 7\n"
          ]
        }
      ]
    },
    {
      "cell_type": "markdown",
      "source": [
        "These Methods Allow us to Do:\n",
        "\n",
        "__str__: Customize how the object appears when you print it or convert it to a string, making it more readable and meaningful in output.\n",
        "\n",
        "\n",
        "__add__: Enable the use of the + operator for objects of your class, allowing them to be \"added\" in a way that makes sense for the objects, like adding their dimensions together."
      ],
      "metadata": {
        "id": "EB3PfGLU1CF4"
      }
    },
    {
      "cell_type": "markdown",
      "source": [
        "12)12. Create a decorator that measures and prints the execution time of a function."
      ],
      "metadata": {
        "id": "8EwWqzjj1UBS"
      }
    },
    {
      "cell_type": "code",
      "source": [
        "import time\n",
        "\n",
        "def time_execution(func):\n",
        "    def wrapper(*args, **kwargs):\n",
        "        start_time = time.time()\n",
        "        result = func(*args, **kwargs)\n",
        "        end_time = time.time()\n",
        "        execution_time = end_time - start_time\n",
        "        print(f\"Execution time of {func.__name__}: {execution_time:.4f} seconds\")\n",
        "        return result\n",
        "    return wrapper\n",
        "@time_execution\n",
        "def example_function():\n",
        "    time.sleep(2)\n",
        "example_function()\n"
      ],
      "metadata": {
        "colab": {
          "base_uri": "https://localhost:8080/"
        },
        "id": "K3ndrt5M1Ti1",
        "outputId": "a07eb472-9d49-466f-cc1f-9fed8c2e5cab"
      },
      "execution_count": 18,
      "outputs": [
        {
          "output_type": "stream",
          "name": "stdout",
          "text": [
            "Execution time of example_function: 2.0032 seconds\n"
          ]
        }
      ]
    },
    {
      "cell_type": "markdown",
      "source": [
        "13)Explain the concept of the Diamond Problem in multiple inheritance. How does Python resolve it?"
      ],
      "metadata": {
        "id": "-aQusDEF12LO"
      }
    },
    {
      "cell_type": "markdown",
      "source": [
        "Ans)The Diamond Problem in Multiple Inheritance\n",
        "\n",
        "The Diamond Problem arises in multiple inheritance when a class inherits from two classes that both inherit from a common superclass. This leads to ambiguity about which method or attribute to use if both parent classes have defined the same method or attribute. The \"diamond\" refers to the inheritance structure visually resembling a diamond shape."
      ],
      "metadata": {
        "id": "j8hTqfxV2Hpi"
      }
    },
    {
      "cell_type": "markdown",
      "source": [
        "How Python Resolves the Diamond Problem\n",
        "\n",
        "Python uses the Method Resolution Order (MRO), which is based on the C3 Linearization Algorithm, to resolve this ambiguity. The MRO defines the order in which base classes are searched when calling a method.\n",
        "\n",
        "MRO in Python:\n",
        "\n",
        "The MRO is a linear order of classes that Python follows when searching for methods.\n",
        "\n",
        "Python ensures that each class appears only once in the MRO, and it checks classes from left to right.\n",
        "\n",
        "Example:\n"
      ],
      "metadata": {
        "id": "KRdEcfZ02TXf"
      }
    },
    {
      "cell_type": "code",
      "source": [
        "class A:\n",
        "    def greet(self):\n",
        "        print(\"Hello from A\")\n",
        "\n",
        "class B(A):\n",
        "    def greet(self):\n",
        "        print(\"Hello from B\")\n",
        "\n",
        "class C(A):\n",
        "    def greet(self):\n",
        "        print(\"Hello from C\")\n",
        "\n",
        "class D(B, C):\n",
        "    pass\n",
        "\n",
        "d = D()\n",
        "d.greet()\n"
      ],
      "metadata": {
        "colab": {
          "base_uri": "https://localhost:8080/"
        },
        "id": "0i3OtAfR1STj",
        "outputId": "d6e5ef4c-8004-43f2-94c1-93d6050c616c"
      },
      "execution_count": 19,
      "outputs": [
        {
          "output_type": "stream",
          "name": "stdout",
          "text": [
            "Hello from B\n"
          ]
        }
      ]
    },
    {
      "cell_type": "markdown",
      "source": [
        "14) Write a class method that keeps track of the number of instances created from a class."
      ],
      "metadata": {
        "id": "LrM5zJ-13RaV"
      }
    },
    {
      "cell_type": "code",
      "source": [
        "class MyClass:\n",
        "    instance_count = 0\n",
        "\n",
        "    def __init__(self):\n",
        "\n",
        "        MyClass.instance_count += 1\n",
        "\n",
        "    @classmethod\n",
        "    def get_instance_count(cls):\n",
        "\n",
        "        return cls.instance_count\n",
        "\n",
        "\n",
        "obj1 = MyClass()\n",
        "obj2 = MyClass()\n",
        "obj3 = MyClass()\n",
        "\n",
        "print(MyClass.get_instance_count())\n"
      ],
      "metadata": {
        "colab": {
          "base_uri": "https://localhost:8080/"
        },
        "id": "ldREmpqY3HZh",
        "outputId": "27728787-5dad-4fe2-bfe4-a4e0a5e8c75c"
      },
      "execution_count": 21,
      "outputs": [
        {
          "output_type": "stream",
          "name": "stdout",
          "text": [
            "3\n"
          ]
        }
      ]
    },
    {
      "cell_type": "markdown",
      "source": [
        "15) Implement a static method in a class that checks if a given year is a leap year."
      ],
      "metadata": {
        "id": "blo6lkEE4dnU"
      }
    },
    {
      "cell_type": "code",
      "source": [
        "class Year:\n",
        "    @staticmethod\n",
        "    def is_leap_year(year):\n",
        "        if (year % 4 == 0 and year % 100 != 0) or (year % 400 == 0):\n",
        "            return True\n",
        "        else:\n",
        "            return False\n",
        "\n",
        "print(Year.is_leap_year(2020))\n",
        "print(Year.is_leap_year(1900))\n",
        "print(Year.is_leap_year(2000))\n",
        "print(Year.is_leap_year(2024))\n"
      ],
      "metadata": {
        "colab": {
          "base_uri": "https://localhost:8080/"
        },
        "id": "VQgGNcsu4pg3",
        "outputId": "c2fff943-ffab-4fab-ab22-4715ee7aa1d8"
      },
      "execution_count": 22,
      "outputs": [
        {
          "output_type": "stream",
          "name": "stdout",
          "text": [
            "True\n",
            "False\n",
            "True\n",
            "True\n"
          ]
        }
      ]
    },
    {
      "cell_type": "code",
      "source": [],
      "metadata": {
        "id": "alSDR4M94ztS"
      },
      "execution_count": null,
      "outputs": []
    }
  ]
}